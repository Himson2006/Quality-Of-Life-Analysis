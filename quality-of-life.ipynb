{
 "cells": [
  {
   "cell_type": "code",
   "execution_count": 1,
   "id": "c8c143ab",
   "metadata": {
    "_cell_guid": "b1076dfc-b9ad-4769-8c92-a6c4dae69d19",
    "_uuid": "8f2839f25d086af736a60e9eeb907d3b93b6e0e5",
    "execution": {
     "iopub.execute_input": "2025-01-21T05:48:04.404626Z",
     "iopub.status.busy": "2025-01-21T05:48:04.404195Z",
     "iopub.status.idle": "2025-01-21T05:48:05.155271Z",
     "shell.execute_reply": "2025-01-21T05:48:05.154096Z"
    },
    "papermill": {
     "duration": 0.758943,
     "end_time": "2025-01-21T05:48:05.156892",
     "exception": false,
     "start_time": "2025-01-21T05:48:04.397949",
     "status": "completed"
    },
    "tags": []
   },
   "outputs": [
    {
     "name": "stdout",
     "output_type": "stream",
     "text": [
      "/kaggle/input/quality-of-life-for-each-country/Quality_of_Life.csv\n"
     ]
    }
   ],
   "source": [
    "# This Python 3 environment comes with many helpful analytics libraries installed\n",
    "# It is defined by the kaggle/python Docker image: https://github.com/kaggle/docker-python\n",
    "# For example, here's several helpful packages to load\n",
    "\n",
    "import numpy as np # linear algebra\n",
    "import pandas as pd # data processing, CSV file I/O (e.g. pd.read_csv)\n",
    "\n",
    "# Input data files are available in the read-only \"../input/\" directory\n",
    "# For example, running this (by clicking run or pressing Shift+Enter) will list all files under the input directory\n",
    "\n",
    "import os\n",
    "for dirname, _, filenames in os.walk('/kaggle/input'):\n",
    "    for filename in filenames:\n",
    "        print(os.path.join(dirname, filename))\n",
    "\n",
    "# You can write up to 20GB to the current directory (/kaggle/working/) that gets preserved as output when you create a version using \"Save & Run All\" \n",
    "# You can also write temporary files to /kaggle/temp/, but they won't be saved outside of the current session"
   ]
  },
  {
   "cell_type": "markdown",
   "id": "9af82aea",
   "metadata": {
    "papermill": {
     "duration": 0.003835,
     "end_time": "2025-01-21T05:48:05.165034",
     "exception": false,
     "start_time": "2025-01-21T05:48:05.161199",
     "status": "completed"
    },
    "tags": []
   },
   "source": [
    "### Importing Matplotlib and Seaborn for visualization"
   ]
  },
  {
   "cell_type": "code",
   "execution_count": 2,
   "id": "5fb8de19",
   "metadata": {
    "execution": {
     "iopub.execute_input": "2025-01-21T05:48:05.173846Z",
     "iopub.status.busy": "2025-01-21T05:48:05.173390Z",
     "iopub.status.idle": "2025-01-21T05:48:06.556210Z",
     "shell.execute_reply": "2025-01-21T05:48:06.555449Z"
    },
    "papermill": {
     "duration": 1.389042,
     "end_time": "2025-01-21T05:48:06.557961",
     "exception": false,
     "start_time": "2025-01-21T05:48:05.168919",
     "status": "completed"
    },
    "tags": []
   },
   "outputs": [],
   "source": [
    "import matplotlib.pyplot as plt\n",
    "import seaborn as sns"
   ]
  },
  {
   "cell_type": "markdown",
   "id": "6fe51cec",
   "metadata": {
    "papermill": {
     "duration": 0.003915,
     "end_time": "2025-01-21T05:48:06.566177",
     "exception": false,
     "start_time": "2025-01-21T05:48:06.562262",
     "status": "completed"
    },
    "tags": []
   },
   "source": [
    "## Loading in the dataset while assigning the country column as the index."
   ]
  },
  {
   "cell_type": "code",
   "execution_count": 3,
   "id": "8cfbc966",
   "metadata": {
    "execution": {
     "iopub.execute_input": "2025-01-21T05:48:06.575205Z",
     "iopub.status.busy": "2025-01-21T05:48:06.574755Z",
     "iopub.status.idle": "2025-01-21T05:48:06.595865Z",
     "shell.execute_reply": "2025-01-21T05:48:06.595073Z"
    },
    "papermill": {
     "duration": 0.027244,
     "end_time": "2025-01-21T05:48:06.597341",
     "exception": false,
     "start_time": "2025-01-21T05:48:06.570097",
     "status": "completed"
    },
    "tags": []
   },
   "outputs": [],
   "source": [
    "df = pd.read_csv('/kaggle/input/quality-of-life-for-each-country/Quality_of_Life.csv', index_col = ['country'])"
   ]
  },
  {
   "cell_type": "markdown",
   "id": "fe579bc9",
   "metadata": {
    "papermill": {
     "duration": 0.00381,
     "end_time": "2025-01-21T05:48:06.605298",
     "exception": false,
     "start_time": "2025-01-21T05:48:06.601488",
     "status": "completed"
    },
    "tags": []
   },
   "source": [
    "## Checking the basic overview of the data we have:"
   ]
  },
  {
   "cell_type": "code",
   "execution_count": 4,
   "id": "a56beda4",
   "metadata": {
    "execution": {
     "iopub.execute_input": "2025-01-21T05:48:06.614190Z",
     "iopub.status.busy": "2025-01-21T05:48:06.613882Z",
     "iopub.status.idle": "2025-01-21T05:48:06.638232Z",
     "shell.execute_reply": "2025-01-21T05:48:06.637308Z"
    },
    "papermill": {
     "duration": 0.030529,
     "end_time": "2025-01-21T05:48:06.639769",
     "exception": false,
     "start_time": "2025-01-21T05:48:06.609240",
     "status": "completed"
    },
    "tags": []
   },
   "outputs": [
    {
     "data": {
      "text/html": [
       "<div>\n",
       "<style scoped>\n",
       "    .dataframe tbody tr th:only-of-type {\n",
       "        vertical-align: middle;\n",
       "    }\n",
       "\n",
       "    .dataframe tbody tr th {\n",
       "        vertical-align: top;\n",
       "    }\n",
       "\n",
       "    .dataframe thead th {\n",
       "        text-align: right;\n",
       "    }\n",
       "</style>\n",
       "<table border=\"1\" class=\"dataframe\">\n",
       "  <thead>\n",
       "    <tr style=\"text-align: right;\">\n",
       "      <th></th>\n",
       "      <th>Purchasing Power Value</th>\n",
       "      <th>Purchasing Power Category</th>\n",
       "      <th>Safety Value</th>\n",
       "      <th>Safety Category</th>\n",
       "      <th>Health Care Value</th>\n",
       "      <th>Health Care Category</th>\n",
       "      <th>Climate Value</th>\n",
       "      <th>Climate Category</th>\n",
       "      <th>Cost of Living Value</th>\n",
       "      <th>Cost of Living Category</th>\n",
       "      <th>Property Price to Income Value</th>\n",
       "      <th>Property Price to Income Category</th>\n",
       "      <th>Traffic Commute Time Value</th>\n",
       "      <th>Traffic Commute Time Category</th>\n",
       "      <th>Pollution Value</th>\n",
       "      <th>Pollution Category</th>\n",
       "      <th>Quality of Life Value</th>\n",
       "      <th>Quality of Life Category</th>\n",
       "    </tr>\n",
       "    <tr>\n",
       "      <th>country</th>\n",
       "      <th></th>\n",
       "      <th></th>\n",
       "      <th></th>\n",
       "      <th></th>\n",
       "      <th></th>\n",
       "      <th></th>\n",
       "      <th></th>\n",
       "      <th></th>\n",
       "      <th></th>\n",
       "      <th></th>\n",
       "      <th></th>\n",
       "      <th></th>\n",
       "      <th></th>\n",
       "      <th></th>\n",
       "      <th></th>\n",
       "      <th></th>\n",
       "      <th></th>\n",
       "      <th></th>\n",
       "    </tr>\n",
       "  </thead>\n",
       "  <tbody>\n",
       "    <tr>\n",
       "      <th>Afghanistan</th>\n",
       "      <td>32.15</td>\n",
       "      <td>'Very Low'</td>\n",
       "      <td>25.33</td>\n",
       "      <td>'Low'</td>\n",
       "      <td>24.24</td>\n",
       "      <td>'Low'</td>\n",
       "      <td>0.00</td>\n",
       "      <td>NaN</td>\n",
       "      <td>21.08</td>\n",
       "      <td>'Very Low'</td>\n",
       "      <td>7.8</td>\n",
       "      <td>'Low'</td>\n",
       "      <td>56.17</td>\n",
       "      <td>'Very High'</td>\n",
       "      <td>84.44</td>\n",
       "      <td>'Very High'</td>\n",
       "      <td>0.0</td>\n",
       "      <td>NaN</td>\n",
       "    </tr>\n",
       "    <tr>\n",
       "      <th>Aland Islands</th>\n",
       "      <td>125.01</td>\n",
       "      <td>'Very High'</td>\n",
       "      <td>71.81</td>\n",
       "      <td>'High'</td>\n",
       "      <td>79.72</td>\n",
       "      <td>'High'</td>\n",
       "      <td>0.00</td>\n",
       "      <td>NaN</td>\n",
       "      <td>53.44</td>\n",
       "      <td>'Low'</td>\n",
       "      <td>5.33</td>\n",
       "      <td>'Low'</td>\n",
       "      <td>19.05</td>\n",
       "      <td>'Very Low'</td>\n",
       "      <td>18.05</td>\n",
       "      <td>'Very Low'</td>\n",
       "      <td>0.0</td>\n",
       "      <td>NaN</td>\n",
       "    </tr>\n",
       "    <tr>\n",
       "      <th>Albania</th>\n",
       "      <td>42.82</td>\n",
       "      <td>'Low'</td>\n",
       "      <td>55.52</td>\n",
       "      <td>'Moderate'</td>\n",
       "      <td>48.21</td>\n",
       "      <td>'Moderate'</td>\n",
       "      <td>86.43</td>\n",
       "      <td>'Very High'</td>\n",
       "      <td>40.85</td>\n",
       "      <td>'Low'</td>\n",
       "      <td>14.88</td>\n",
       "      <td>'High'</td>\n",
       "      <td>36.74</td>\n",
       "      <td>'Moderate'</td>\n",
       "      <td>77.25</td>\n",
       "      <td>'High'</td>\n",
       "      <td>': 104.16'</td>\n",
       "      <td>'Low'</td>\n",
       "    </tr>\n",
       "    <tr>\n",
       "      <th>Alderney</th>\n",
       "      <td>0.00</td>\n",
       "      <td>NaN</td>\n",
       "      <td>83.79</td>\n",
       "      <td>'Very High'</td>\n",
       "      <td>100.00</td>\n",
       "      <td>'Very High'</td>\n",
       "      <td>0.00</td>\n",
       "      <td>NaN</td>\n",
       "      <td>0.00</td>\n",
       "      <td>NaN</td>\n",
       "      <td>0.0</td>\n",
       "      <td>NaN</td>\n",
       "      <td>5.00</td>\n",
       "      <td>'Very Low'</td>\n",
       "      <td>1.72</td>\n",
       "      <td>'Very Low'</td>\n",
       "      <td>0.0</td>\n",
       "      <td>NaN</td>\n",
       "    </tr>\n",
       "    <tr>\n",
       "      <th>Algeria</th>\n",
       "      <td>27.60</td>\n",
       "      <td>'Very Low'</td>\n",
       "      <td>47.54</td>\n",
       "      <td>'Moderate'</td>\n",
       "      <td>54.43</td>\n",
       "      <td>'Moderate'</td>\n",
       "      <td>94.82</td>\n",
       "      <td>'Very High'</td>\n",
       "      <td>25.31</td>\n",
       "      <td>'Very Low'</td>\n",
       "      <td>21.7</td>\n",
       "      <td>'Very High'</td>\n",
       "      <td>45.09</td>\n",
       "      <td>'High'</td>\n",
       "      <td>63.87</td>\n",
       "      <td>'High'</td>\n",
       "      <td>': 98.83'</td>\n",
       "      <td>'Very Low'</td>\n",
       "    </tr>\n",
       "  </tbody>\n",
       "</table>\n",
       "</div>"
      ],
      "text/plain": [
       "               Purchasing Power Value Purchasing Power Category  Safety Value  \\\n",
       "country                                                                         \n",
       "Afghanistan                     32.15                'Very Low'         25.33   \n",
       "Aland Islands                  125.01               'Very High'         71.81   \n",
       "Albania                         42.82                     'Low'         55.52   \n",
       "Alderney                         0.00                       NaN         83.79   \n",
       "Algeria                         27.60                'Very Low'         47.54   \n",
       "\n",
       "              Safety Category  Health Care Value Health Care Category  \\\n",
       "country                                                                 \n",
       "Afghanistan             'Low'              24.24                'Low'   \n",
       "Aland Islands          'High'              79.72               'High'   \n",
       "Albania            'Moderate'              48.21           'Moderate'   \n",
       "Alderney          'Very High'             100.00          'Very High'   \n",
       "Algeria            'Moderate'              54.43           'Moderate'   \n",
       "\n",
       "               Climate Value Climate Category  Cost of Living Value  \\\n",
       "country                                                               \n",
       "Afghanistan             0.00              NaN                 21.08   \n",
       "Aland Islands           0.00              NaN                 53.44   \n",
       "Albania                86.43      'Very High'                 40.85   \n",
       "Alderney                0.00              NaN                  0.00   \n",
       "Algeria                94.82      'Very High'                 25.31   \n",
       "\n",
       "              Cost of Living Category Property Price to Income Value  \\\n",
       "country                                                                \n",
       "Afghanistan                'Very Low'                            7.8   \n",
       "Aland Islands                   'Low'                           5.33   \n",
       "Albania                         'Low'                          14.88   \n",
       "Alderney                          NaN                            0.0   \n",
       "Algeria                    'Very Low'                           21.7   \n",
       "\n",
       "              Property Price to Income Category  Traffic Commute Time Value  \\\n",
       "country                                                                       \n",
       "Afghanistan                               'Low'                       56.17   \n",
       "Aland Islands                             'Low'                       19.05   \n",
       "Albania                                  'High'                       36.74   \n",
       "Alderney                                    NaN                        5.00   \n",
       "Algeria                             'Very High'                       45.09   \n",
       "\n",
       "              Traffic Commute Time Category  Pollution Value  \\\n",
       "country                                                        \n",
       "Afghanistan                     'Very High'            84.44   \n",
       "Aland Islands                    'Very Low'            18.05   \n",
       "Albania                          'Moderate'            77.25   \n",
       "Alderney                         'Very Low'             1.72   \n",
       "Algeria                              'High'            63.87   \n",
       "\n",
       "              Pollution Category Quality of Life Value  \\\n",
       "country                                                  \n",
       "Afghanistan          'Very High'                   0.0   \n",
       "Aland Islands         'Very Low'                   0.0   \n",
       "Albania                   'High'            ': 104.16'   \n",
       "Alderney              'Very Low'                   0.0   \n",
       "Algeria                   'High'             ': 98.83'   \n",
       "\n",
       "              Quality of Life Category  \n",
       "country                                 \n",
       "Afghanistan                        NaN  \n",
       "Aland Islands                      NaN  \n",
       "Albania                          'Low'  \n",
       "Alderney                           NaN  \n",
       "Algeria                     'Very Low'  "
      ]
     },
     "execution_count": 4,
     "metadata": {},
     "output_type": "execute_result"
    }
   ],
   "source": [
    "df.head()"
   ]
  },
  {
   "cell_type": "markdown",
   "id": "446498b1",
   "metadata": {
    "papermill": {
     "duration": 0.004094,
     "end_time": "2025-01-21T05:48:06.648419",
     "exception": false,
     "start_time": "2025-01-21T05:48:06.644325",
     "status": "completed"
    },
    "tags": []
   },
   "source": [
    "# Cleaning Data:\n",
    "\n",
    "### We first remove the spaces from the column names for better typeability."
   ]
  },
  {
   "cell_type": "code",
   "execution_count": 5,
   "id": "ec8d2355",
   "metadata": {
    "execution": {
     "iopub.execute_input": "2025-01-21T05:48:06.657648Z",
     "iopub.status.busy": "2025-01-21T05:48:06.657355Z",
     "iopub.status.idle": "2025-01-21T05:48:06.661404Z",
     "shell.execute_reply": "2025-01-21T05:48:06.660658Z"
    },
    "papermill": {
     "duration": 0.010342,
     "end_time": "2025-01-21T05:48:06.662907",
     "exception": false,
     "start_time": "2025-01-21T05:48:06.652565",
     "status": "completed"
    },
    "tags": []
   },
   "outputs": [],
   "source": [
    "df.columns = df.columns.str.replace(\" \", \"\")"
   ]
  },
  {
   "cell_type": "markdown",
   "id": "5b0cd397",
   "metadata": {
    "papermill": {
     "duration": 0.003943,
     "end_time": "2025-01-21T05:48:06.671180",
     "exception": false,
     "start_time": "2025-01-21T05:48:06.667237",
     "status": "completed"
    },
    "tags": []
   },
   "source": [
    "### Here we get rid of the ' at the front and back of the values in every category column."
   ]
  },
  {
   "cell_type": "code",
   "execution_count": 6,
   "id": "0b5ce2a3",
   "metadata": {
    "execution": {
     "iopub.execute_input": "2025-01-21T05:48:06.680497Z",
     "iopub.status.busy": "2025-01-21T05:48:06.680201Z",
     "iopub.status.idle": "2025-01-21T05:48:06.705037Z",
     "shell.execute_reply": "2025-01-21T05:48:06.704221Z"
    },
    "papermill": {
     "duration": 0.031107,
     "end_time": "2025-01-21T05:48:06.706434",
     "exception": false,
     "start_time": "2025-01-21T05:48:06.675327",
     "status": "completed"
    },
    "tags": []
   },
   "outputs": [
    {
     "data": {
      "text/html": [
       "<div>\n",
       "<style scoped>\n",
       "    .dataframe tbody tr th:only-of-type {\n",
       "        vertical-align: middle;\n",
       "    }\n",
       "\n",
       "    .dataframe tbody tr th {\n",
       "        vertical-align: top;\n",
       "    }\n",
       "\n",
       "    .dataframe thead th {\n",
       "        text-align: right;\n",
       "    }\n",
       "</style>\n",
       "<table border=\"1\" class=\"dataframe\">\n",
       "  <thead>\n",
       "    <tr style=\"text-align: right;\">\n",
       "      <th></th>\n",
       "      <th>PurchasingPowerValue</th>\n",
       "      <th>PurchasingPowerCategory</th>\n",
       "      <th>SafetyValue</th>\n",
       "      <th>SafetyCategory</th>\n",
       "      <th>HealthCareValue</th>\n",
       "      <th>HealthCareCategory</th>\n",
       "      <th>ClimateValue</th>\n",
       "      <th>ClimateCategory</th>\n",
       "      <th>CostofLivingValue</th>\n",
       "      <th>CostofLivingCategory</th>\n",
       "      <th>PropertyPricetoIncomeValue</th>\n",
       "      <th>PropertyPricetoIncomeCategory</th>\n",
       "      <th>TrafficCommuteTimeValue</th>\n",
       "      <th>TrafficCommuteTimeCategory</th>\n",
       "      <th>PollutionValue</th>\n",
       "      <th>PollutionCategory</th>\n",
       "      <th>QualityofLifeValue</th>\n",
       "      <th>QualityofLifeCategory</th>\n",
       "    </tr>\n",
       "    <tr>\n",
       "      <th>country</th>\n",
       "      <th></th>\n",
       "      <th></th>\n",
       "      <th></th>\n",
       "      <th></th>\n",
       "      <th></th>\n",
       "      <th></th>\n",
       "      <th></th>\n",
       "      <th></th>\n",
       "      <th></th>\n",
       "      <th></th>\n",
       "      <th></th>\n",
       "      <th></th>\n",
       "      <th></th>\n",
       "      <th></th>\n",
       "      <th></th>\n",
       "      <th></th>\n",
       "      <th></th>\n",
       "      <th></th>\n",
       "    </tr>\n",
       "  </thead>\n",
       "  <tbody>\n",
       "    <tr>\n",
       "      <th>Afghanistan</th>\n",
       "      <td>32.15</td>\n",
       "      <td>Very Low</td>\n",
       "      <td>25.33</td>\n",
       "      <td>Low</td>\n",
       "      <td>24.24</td>\n",
       "      <td>Low</td>\n",
       "      <td>0.00</td>\n",
       "      <td>NaN</td>\n",
       "      <td>21.08</td>\n",
       "      <td>Very Low</td>\n",
       "      <td>7.8</td>\n",
       "      <td>Low</td>\n",
       "      <td>56.17</td>\n",
       "      <td>Very High</td>\n",
       "      <td>84.44</td>\n",
       "      <td>'Very High'</td>\n",
       "      <td>0.0</td>\n",
       "      <td>NaN</td>\n",
       "    </tr>\n",
       "    <tr>\n",
       "      <th>Aland Islands</th>\n",
       "      <td>125.01</td>\n",
       "      <td>Very High</td>\n",
       "      <td>71.81</td>\n",
       "      <td>High</td>\n",
       "      <td>79.72</td>\n",
       "      <td>High</td>\n",
       "      <td>0.00</td>\n",
       "      <td>NaN</td>\n",
       "      <td>53.44</td>\n",
       "      <td>Low</td>\n",
       "      <td>5.33</td>\n",
       "      <td>Low</td>\n",
       "      <td>19.05</td>\n",
       "      <td>Very Low</td>\n",
       "      <td>18.05</td>\n",
       "      <td>'Very Low'</td>\n",
       "      <td>0.0</td>\n",
       "      <td>NaN</td>\n",
       "    </tr>\n",
       "    <tr>\n",
       "      <th>Albania</th>\n",
       "      <td>42.82</td>\n",
       "      <td>Low</td>\n",
       "      <td>55.52</td>\n",
       "      <td>Moderate</td>\n",
       "      <td>48.21</td>\n",
       "      <td>Moderate</td>\n",
       "      <td>86.43</td>\n",
       "      <td>Very High</td>\n",
       "      <td>40.85</td>\n",
       "      <td>Low</td>\n",
       "      <td>14.88</td>\n",
       "      <td>High</td>\n",
       "      <td>36.74</td>\n",
       "      <td>Moderate</td>\n",
       "      <td>77.25</td>\n",
       "      <td>'High'</td>\n",
       "      <td>': 104.16'</td>\n",
       "      <td>Low</td>\n",
       "    </tr>\n",
       "    <tr>\n",
       "      <th>Alderney</th>\n",
       "      <td>0.00</td>\n",
       "      <td>NaN</td>\n",
       "      <td>83.79</td>\n",
       "      <td>Very High</td>\n",
       "      <td>100.00</td>\n",
       "      <td>Very High</td>\n",
       "      <td>0.00</td>\n",
       "      <td>NaN</td>\n",
       "      <td>0.00</td>\n",
       "      <td>NaN</td>\n",
       "      <td>0.0</td>\n",
       "      <td>NaN</td>\n",
       "      <td>5.00</td>\n",
       "      <td>Very Low</td>\n",
       "      <td>1.72</td>\n",
       "      <td>'Very Low'</td>\n",
       "      <td>0.0</td>\n",
       "      <td>NaN</td>\n",
       "    </tr>\n",
       "    <tr>\n",
       "      <th>Algeria</th>\n",
       "      <td>27.60</td>\n",
       "      <td>Very Low</td>\n",
       "      <td>47.54</td>\n",
       "      <td>Moderate</td>\n",
       "      <td>54.43</td>\n",
       "      <td>Moderate</td>\n",
       "      <td>94.82</td>\n",
       "      <td>Very High</td>\n",
       "      <td>25.31</td>\n",
       "      <td>Very Low</td>\n",
       "      <td>21.7</td>\n",
       "      <td>Very High</td>\n",
       "      <td>45.09</td>\n",
       "      <td>High</td>\n",
       "      <td>63.87</td>\n",
       "      <td>'High'</td>\n",
       "      <td>': 98.83'</td>\n",
       "      <td>Very Low</td>\n",
       "    </tr>\n",
       "  </tbody>\n",
       "</table>\n",
       "</div>"
      ],
      "text/plain": [
       "               PurchasingPowerValue PurchasingPowerCategory  SafetyValue  \\\n",
       "country                                                                    \n",
       "Afghanistan                   32.15                Very Low        25.33   \n",
       "Aland Islands                125.01               Very High        71.81   \n",
       "Albania                       42.82                     Low        55.52   \n",
       "Alderney                       0.00                     NaN        83.79   \n",
       "Algeria                       27.60                Very Low        47.54   \n",
       "\n",
       "              SafetyCategory  HealthCareValue HealthCareCategory  \\\n",
       "country                                                            \n",
       "Afghanistan              Low            24.24                Low   \n",
       "Aland Islands           High            79.72               High   \n",
       "Albania             Moderate            48.21           Moderate   \n",
       "Alderney           Very High           100.00          Very High   \n",
       "Algeria             Moderate            54.43           Moderate   \n",
       "\n",
       "               ClimateValue ClimateCategory  CostofLivingValue  \\\n",
       "country                                                          \n",
       "Afghanistan            0.00             NaN              21.08   \n",
       "Aland Islands          0.00             NaN              53.44   \n",
       "Albania               86.43       Very High              40.85   \n",
       "Alderney               0.00             NaN               0.00   \n",
       "Algeria               94.82       Very High              25.31   \n",
       "\n",
       "              CostofLivingCategory PropertyPricetoIncomeValue  \\\n",
       "country                                                         \n",
       "Afghanistan               Very Low                        7.8   \n",
       "Aland Islands                  Low                       5.33   \n",
       "Albania                        Low                      14.88   \n",
       "Alderney                       NaN                        0.0   \n",
       "Algeria                   Very Low                       21.7   \n",
       "\n",
       "              PropertyPricetoIncomeCategory  TrafficCommuteTimeValue  \\\n",
       "country                                                                \n",
       "Afghanistan                             Low                    56.17   \n",
       "Aland Islands                           Low                    19.05   \n",
       "Albania                                High                    36.74   \n",
       "Alderney                                NaN                     5.00   \n",
       "Algeria                           Very High                    45.09   \n",
       "\n",
       "              TrafficCommuteTimeCategory  PollutionValue PollutionCategory  \\\n",
       "country                                                                      \n",
       "Afghanistan                    Very High           84.44       'Very High'   \n",
       "Aland Islands                   Very Low           18.05        'Very Low'   \n",
       "Albania                         Moderate           77.25            'High'   \n",
       "Alderney                        Very Low            1.72        'Very Low'   \n",
       "Algeria                             High           63.87            'High'   \n",
       "\n",
       "              QualityofLifeValue QualityofLifeCategory  \n",
       "country                                                 \n",
       "Afghanistan                  0.0                   NaN  \n",
       "Aland Islands                0.0                   NaN  \n",
       "Albania               ': 104.16'                   Low  \n",
       "Alderney                     0.0                   NaN  \n",
       "Algeria                ': 98.83'              Very Low  "
      ]
     },
     "execution_count": 6,
     "metadata": {},
     "output_type": "execute_result"
    }
   ],
   "source": [
    "df['PurchasingPowerCategory'] = df['PurchasingPowerCategory'].str.strip(\"'\")\n",
    "df['SafetyCategory'] = df['SafetyCategory'].str.strip(\"'\")\n",
    "df['HealthCareCategory'] = df['HealthCareCategory'].str.strip(\"'\")\n",
    "df['ClimateCategory'] = df['ClimateCategory'].str.strip(\"'\")\n",
    "df['CostofLivingCategory'] = df['CostofLivingCategory'].str.strip(\"'\")\n",
    "df['PropertyPricetoIncomeCategory'] = df['PropertyPricetoIncomeCategory'].str.strip(\"'\")\n",
    "df['TrafficCommuteTimeCategory'] = df['TrafficCommuteTimeCategory'].str.strip(\"'\")\n",
    "df['QualityofLifeCategory'] = df['QualityofLifeCategory'].str.strip(\"'\")\n",
    "df.head()"
   ]
  },
  {
   "cell_type": "markdown",
   "id": "7c469db6",
   "metadata": {
    "papermill": {
     "duration": 0.004446,
     "end_time": "2025-01-21T05:48:06.715808",
     "exception": false,
     "start_time": "2025-01-21T05:48:06.711362",
     "status": "completed"
    },
    "tags": []
   },
   "source": [
    "### We view what the types of categories present in the dataset are:"
   ]
  },
  {
   "cell_type": "code",
   "execution_count": 7,
   "id": "601a46d7",
   "metadata": {
    "execution": {
     "iopub.execute_input": "2025-01-21T05:48:06.725884Z",
     "iopub.status.busy": "2025-01-21T05:48:06.725577Z",
     "iopub.status.idle": "2025-01-21T05:48:06.731142Z",
     "shell.execute_reply": "2025-01-21T05:48:06.730291Z"
    },
    "papermill": {
     "duration": 0.012083,
     "end_time": "2025-01-21T05:48:06.732511",
     "exception": false,
     "start_time": "2025-01-21T05:48:06.720428",
     "status": "completed"
    },
    "tags": []
   },
   "outputs": [
    {
     "data": {
      "text/plain": [
       "array(['Very Low', 'Very High', 'Low', nan, 'Moderate', 'High'],\n",
       "      dtype=object)"
      ]
     },
     "execution_count": 7,
     "metadata": {},
     "output_type": "execute_result"
    }
   ],
   "source": [
    "df['PurchasingPowerCategory'].unique()"
   ]
  },
  {
   "cell_type": "markdown",
   "id": "1d6d34b3",
   "metadata": {
    "papermill": {
     "duration": 0.004455,
     "end_time": "2025-01-21T05:48:06.741552",
     "exception": false,
     "start_time": "2025-01-21T05:48:06.737097",
     "status": "completed"
    },
    "tags": []
   },
   "source": [
    "### Since there is no clarificaton on what value ranges each category represents, we find that out ourselves."
   ]
  },
  {
   "cell_type": "code",
   "execution_count": 8,
   "id": "59fe123d",
   "metadata": {
    "execution": {
     "iopub.execute_input": "2025-01-21T05:48:06.751601Z",
     "iopub.status.busy": "2025-01-21T05:48:06.751315Z",
     "iopub.status.idle": "2025-01-21T05:48:06.768784Z",
     "shell.execute_reply": "2025-01-21T05:48:06.767754Z"
    },
    "papermill": {
     "duration": 0.024149,
     "end_time": "2025-01-21T05:48:06.770254",
     "exception": false,
     "start_time": "2025-01-21T05:48:06.746105",
     "status": "completed"
    },
    "tags": []
   },
   "outputs": [
    {
     "name": "stdout",
     "output_type": "stream",
     "text": [
      "V Low Max is  39.16\n",
      "Low Min is  40.26\n",
      "Low Max is  59.69\n",
      "Moderate Min is  62.54\n",
      "Moderate Max is  84.66\n",
      "High Min is  85.89\n",
      "High Max is  109.08\n",
      "V High Min is  111.31\n"
     ]
    }
   ],
   "source": [
    "filt_Vlow = df['PurchasingPowerCategory'] == 'Very Low'\n",
    "filt_low = df['PurchasingPowerCategory'] == 'Low'\n",
    "filt_Mod = df['PurchasingPowerCategory'] == 'Moderate'\n",
    "filt_High = df['PurchasingPowerCategory'] == 'High'\n",
    "filt_VHigh = df['PurchasingPowerCategory'] == 'Very High'\n",
    "print(\"V Low Max is \", df[filt_Vlow]['PurchasingPowerValue'].max())\n",
    "print(\"Low Min is \", df[filt_low]['PurchasingPowerValue'].min())\n",
    "print(\"Low Max is \", df[filt_low]['PurchasingPowerValue'].max())\n",
    "print(\"Moderate Min is \", df[filt_Mod]['PurchasingPowerValue'].min())\n",
    "print(\"Moderate Max is \", df[filt_Mod]['PurchasingPowerValue'].max())\n",
    "print(\"High Min is \", df[filt_High]['PurchasingPowerValue'].min())\n",
    "print(\"High Max is \", df[filt_High]['PurchasingPowerValue'].max())\n",
    "print(\"V High Min is \", df[filt_VHigh]['PurchasingPowerValue'].min())\n",
    "\n"
   ]
  },
  {
   "cell_type": "markdown",
   "id": "e5e9d475",
   "metadata": {
    "papermill": {
     "duration": 0.004575,
     "end_time": "2025-01-21T05:48:06.779759",
     "exception": false,
     "start_time": "2025-01-21T05:48:06.775184",
     "status": "completed"
    },
    "tags": []
   },
   "source": [
    "# The Range Values:\n",
    "### Based on the observation above we can find the range of different categories:\n",
    "#### V Low: 0 - 40\n",
    "#### Low: 40 - 60\n",
    "#### Moderate: 60 - 85\n",
    "#### High: 85 - 110\n",
    "#### V High: 110+"
   ]
  },
  {
   "cell_type": "code",
   "execution_count": 9,
   "id": "55c54710",
   "metadata": {
    "execution": {
     "iopub.execute_input": "2025-01-21T05:48:06.790344Z",
     "iopub.status.busy": "2025-01-21T05:48:06.790041Z",
     "iopub.status.idle": "2025-01-21T05:48:06.817113Z",
     "shell.execute_reply": "2025-01-21T05:48:06.816216Z"
    },
    "papermill": {
     "duration": 0.034041,
     "end_time": "2025-01-21T05:48:06.818535",
     "exception": false,
     "start_time": "2025-01-21T05:48:06.784494",
     "status": "completed"
    },
    "tags": []
   },
   "outputs": [
    {
     "data": {
      "text/html": [
       "<div>\n",
       "<style scoped>\n",
       "    .dataframe tbody tr th:only-of-type {\n",
       "        vertical-align: middle;\n",
       "    }\n",
       "\n",
       "    .dataframe tbody tr th {\n",
       "        vertical-align: top;\n",
       "    }\n",
       "\n",
       "    .dataframe thead th {\n",
       "        text-align: right;\n",
       "    }\n",
       "</style>\n",
       "<table border=\"1\" class=\"dataframe\">\n",
       "  <thead>\n",
       "    <tr style=\"text-align: right;\">\n",
       "      <th></th>\n",
       "      <th>PurchasingPowerValue</th>\n",
       "      <th>SafetyValue</th>\n",
       "      <th>HealthCareValue</th>\n",
       "      <th>ClimateValue</th>\n",
       "      <th>CostofLivingValue</th>\n",
       "      <th>TrafficCommuteTimeValue</th>\n",
       "      <th>PollutionValue</th>\n",
       "    </tr>\n",
       "  </thead>\n",
       "  <tbody>\n",
       "    <tr>\n",
       "      <th>count</th>\n",
       "      <td>236.000000</td>\n",
       "      <td>236.000000</td>\n",
       "      <td>236.000000</td>\n",
       "      <td>236.000000</td>\n",
       "      <td>236.000000</td>\n",
       "      <td>236.000000</td>\n",
       "      <td>236.000000</td>\n",
       "    </tr>\n",
       "    <tr>\n",
       "      <th>mean</th>\n",
       "      <td>55.573305</td>\n",
       "      <td>55.274449</td>\n",
       "      <td>54.731568</td>\n",
       "      <td>37.598178</td>\n",
       "      <td>37.526314</td>\n",
       "      <td>28.492966</td>\n",
       "      <td>54.266186</td>\n",
       "    </tr>\n",
       "    <tr>\n",
       "      <th>std</th>\n",
       "      <td>52.008245</td>\n",
       "      <td>16.914298</td>\n",
       "      <td>20.607381</td>\n",
       "      <td>40.851542</td>\n",
       "      <td>26.026565</td>\n",
       "      <td>17.347242</td>\n",
       "      <td>25.853695</td>\n",
       "    </tr>\n",
       "    <tr>\n",
       "      <th>min</th>\n",
       "      <td>0.000000</td>\n",
       "      <td>0.000000</td>\n",
       "      <td>0.000000</td>\n",
       "      <td>-3.540000</td>\n",
       "      <td>0.000000</td>\n",
       "      <td>0.000000</td>\n",
       "      <td>0.000000</td>\n",
       "    </tr>\n",
       "    <tr>\n",
       "      <th>25%</th>\n",
       "      <td>16.340000</td>\n",
       "      <td>43.857500</td>\n",
       "      <td>45.807500</td>\n",
       "      <td>0.000000</td>\n",
       "      <td>24.550000</td>\n",
       "      <td>17.100000</td>\n",
       "      <td>35.700000</td>\n",
       "    </tr>\n",
       "    <tr>\n",
       "      <th>50%</th>\n",
       "      <td>42.930000</td>\n",
       "      <td>54.635000</td>\n",
       "      <td>57.150000</td>\n",
       "      <td>0.000000</td>\n",
       "      <td>36.895000</td>\n",
       "      <td>29.845000</td>\n",
       "      <td>59.765000</td>\n",
       "    </tr>\n",
       "    <tr>\n",
       "      <th>75%</th>\n",
       "      <td>85.940000</td>\n",
       "      <td>68.132500</td>\n",
       "      <td>68.447500</td>\n",
       "      <td>79.332500</td>\n",
       "      <td>51.090000</td>\n",
       "      <td>38.870000</td>\n",
       "      <td>73.740000</td>\n",
       "    </tr>\n",
       "    <tr>\n",
       "      <th>max</th>\n",
       "      <td>281.830000</td>\n",
       "      <td>100.000000</td>\n",
       "      <td>100.000000</td>\n",
       "      <td>99.890000</td>\n",
       "      <td>137.370000</td>\n",
       "      <td>100.000000</td>\n",
       "      <td>106.900000</td>\n",
       "    </tr>\n",
       "  </tbody>\n",
       "</table>\n",
       "</div>"
      ],
      "text/plain": [
       "       PurchasingPowerValue  SafetyValue  HealthCareValue  ClimateValue  \\\n",
       "count            236.000000   236.000000       236.000000    236.000000   \n",
       "mean              55.573305    55.274449        54.731568     37.598178   \n",
       "std               52.008245    16.914298        20.607381     40.851542   \n",
       "min                0.000000     0.000000         0.000000     -3.540000   \n",
       "25%               16.340000    43.857500        45.807500      0.000000   \n",
       "50%               42.930000    54.635000        57.150000      0.000000   \n",
       "75%               85.940000    68.132500        68.447500     79.332500   \n",
       "max              281.830000   100.000000       100.000000     99.890000   \n",
       "\n",
       "       CostofLivingValue  TrafficCommuteTimeValue  PollutionValue  \n",
       "count         236.000000               236.000000      236.000000  \n",
       "mean           37.526314                28.492966       54.266186  \n",
       "std            26.026565                17.347242       25.853695  \n",
       "min             0.000000                 0.000000        0.000000  \n",
       "25%            24.550000                17.100000       35.700000  \n",
       "50%            36.895000                29.845000       59.765000  \n",
       "75%            51.090000                38.870000       73.740000  \n",
       "max           137.370000               100.000000      106.900000  "
      ]
     },
     "execution_count": 9,
     "metadata": {},
     "output_type": "execute_result"
    }
   ],
   "source": [
    "df.describe()"
   ]
  },
  {
   "cell_type": "code",
   "execution_count": 10,
   "id": "ac40af2d",
   "metadata": {
    "execution": {
     "iopub.execute_input": "2025-01-21T05:48:06.829597Z",
     "iopub.status.busy": "2025-01-21T05:48:06.829335Z",
     "iopub.status.idle": "2025-01-21T05:48:06.834336Z",
     "shell.execute_reply": "2025-01-21T05:48:06.833620Z"
    },
    "papermill": {
     "duration": 0.011991,
     "end_time": "2025-01-21T05:48:06.835757",
     "exception": false,
     "start_time": "2025-01-21T05:48:06.823766",
     "status": "completed"
    },
    "tags": []
   },
   "outputs": [],
   "source": [
    "corr_data = df.select_dtypes(include = 'number')\n",
    "corr = corr_data.corr()"
   ]
  },
  {
   "cell_type": "code",
   "execution_count": 11,
   "id": "ebc91808",
   "metadata": {
    "execution": {
     "iopub.execute_input": "2025-01-21T05:48:06.846250Z",
     "iopub.status.busy": "2025-01-21T05:48:06.845980Z",
     "iopub.status.idle": "2025-01-21T05:48:06.849420Z",
     "shell.execute_reply": "2025-01-21T05:48:06.848774Z"
    },
    "papermill": {
     "duration": 0.010211,
     "end_time": "2025-01-21T05:48:06.850864",
     "exception": false,
     "start_time": "2025-01-21T05:48:06.840653",
     "status": "completed"
    },
    "tags": []
   },
   "outputs": [],
   "source": [
    "mask = np.triu(corr)"
   ]
  },
  {
   "cell_type": "code",
   "execution_count": 12,
   "id": "fb215d24",
   "metadata": {
    "execution": {
     "iopub.execute_input": "2025-01-21T05:48:06.861577Z",
     "iopub.status.busy": "2025-01-21T05:48:06.861313Z",
     "iopub.status.idle": "2025-01-21T05:48:07.248537Z",
     "shell.execute_reply": "2025-01-21T05:48:07.247582Z"
    },
    "papermill": {
     "duration": 0.394585,
     "end_time": "2025-01-21T05:48:07.250493",
     "exception": false,
     "start_time": "2025-01-21T05:48:06.855908",
     "status": "completed"
    },
    "tags": []
   },
   "outputs": [
    {
     "data": {
      "text/plain": [
       "<Axes: >"
      ]
     },
     "execution_count": 12,
     "metadata": {},
     "output_type": "execute_result"
    },
    {
     "data": {
      "image/png": "[encoded data removed]",
      "text/plain": [
       "<Figure size 1200x600 with 2 Axes>"
      ]
     },
     "metadata": {},
     "output_type": "display_data"
    }
   ],
   "source": [
    "fig, ax = plt.subplots(figsize = (12,6))\n",
    "\n",
    "sns.heatmap(corr, mask = mask)"
   ]
  },
  {
   "cell_type": "code",
   "execution_count": null,
   "id": "c77dc790",
   "metadata": {
    "papermill": {
     "duration": 0.006248,
     "end_time": "2025-01-21T05:48:07.263033",
     "exception": false,
     "start_time": "2025-01-21T05:48:07.256785",
     "status": "completed"
    },
    "tags": []
   },
   "outputs": [],
   "source": []
  }
 ],
 "metadata": {
  "kaggle": {
   "accelerator": "none",
   "dataSources": [
    {
     "datasetId": 6490228,
     "sourceId": 10481853,
     "sourceType": "datasetVersion"
    }
   ],
   "dockerImageVersionId": 30839,
   "isGpuEnabled": false,
   "isInternetEnabled": false,
   "language": "python",
   "sourceType": "notebook"
  },
  "kernelspec": {
   "display_name": "Python 3",
   "language": "python",
   "name": "python3"
  },
  "language_info": {
   "codemirror_mode": {
    "name": "ipython",
    "version": 3
   },
   "file_extension": ".py",
   "mimetype": "text/x-python",
   "name": "python",
   "nbconvert_exporter": "python",
   "pygments_lexer": "ipython3",
   "version": "3.10.12"
  },
  "papermill": {
   "default_parameters": {},
   "duration": 6.043222,
   "end_time": "2025-01-21T05:48:07.887451",
   "environment_variables": {},
   "exception": null,
   "input_path": "__notebook__.ipynb",
   "output_path": "__notebook__.ipynb",
   "parameters": {},
   "start_time": "2025-01-21T05:48:01.844229",
   "version": "2.6.0"
  }
 },
 "nbformat": 4,
 "nbformat_minor": 5
}
